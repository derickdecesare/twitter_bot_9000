{
 "cells": [
  {
   "cell_type": "code",
   "execution_count": 6,
   "metadata": {},
   "outputs": [],
   "source": [
    "from dotenv import load_dotenv\n",
    "import os\n",
    "from langchain_anthropic import ChatAnthropic\n",
    "\n",
    "openai_api_key = os.environ['OPENAI_API_KEY']\n",
    "anthropic_api_key = os.environ['ANTHROPIC_API_KEY']\n",
    "llm = ChatAnthropic(model=\"claude-3-5-sonnet-20240620\", api_key=anthropic_api_key)"
   ]
  },
  {
   "cell_type": "code",
   "execution_count": 8,
   "metadata": {},
   "outputs": [],
   "source": [
    "from langchain_core.tools import tool\n",
    "\n",
    "\n",
    "@tool\n",
    "def add(a: int, b: int) -> int:\n",
    "    \"\"\"Adds a and b.\"\"\"\n",
    "    return a + b\n",
    "\n",
    "\n",
    "@tool\n",
    "def multiply(a: int, b: int) -> int:\n",
    "    \"\"\"Multiplies a and b.\"\"\"\n",
    "    return a * b\n",
    "\n",
    "\n",
    "tools = [add, multiply]\n",
    "\n",
    "llm_with_tools = llm.bind_tools(tools)"
   ]
  },
  {
   "cell_type": "code",
   "execution_count": 10,
   "metadata": {},
   "outputs": [
    {
     "name": "stdout",
     "output_type": "stream",
     "text": [
      "[{'text': \"Certainly! I can help you with those calculations using the available tools. Let's use the multiply function for the first calculation and the add function for the second one.\", 'type': 'text'}, {'id': 'toolu_016pQH9Avas8vLZF8z4XEU31', 'input': {'a': 3, 'b': 12}, 'name': 'multiply', 'type': 'tool_use'}, {'id': 'toolu_014tKZv46e7N98BdBhXUkDb7', 'input': {'a': 11, 'b': 49}, 'name': 'add', 'type': 'tool_use'}]\n",
      "[{'name': 'multiply', 'args': {'a': 3, 'b': 12}, 'id': 'toolu_016pQH9Avas8vLZF8z4XEU31', 'type': 'tool_call'}, {'name': 'add', 'args': {'a': 11, 'b': 49}, 'id': 'toolu_014tKZv46e7N98BdBhXUkDb7', 'type': 'tool_call'}]\n"
     ]
    }
   ],
   "source": [
    "from langchain_core.messages import HumanMessage\n",
    "\n",
    "query = \"What is 3 * 12? Also, what is 11 + 49?\"\n",
    "\n",
    "messages = [HumanMessage(query)]\n",
    "\n",
    "ai_msg = llm_with_tools.invoke(messages)\n",
    "\n",
    "print(ai_msg.content)\n",
    "\n",
    "print(ai_msg.tool_calls)\n",
    "\n",
    "messages.append(ai_msg)\n",
    "\n"
   ]
  },
  {
   "cell_type": "code",
   "execution_count": 11,
   "metadata": {},
   "outputs": [
    {
     "data": {
      "text/plain": [
       "[HumanMessage(content='What is 3 * 12? Also, what is 11 + 49?'),\n",
       " AIMessage(content=[{'text': \"Certainly! I can help you with those calculations using the available tools. Let's use the multiply function for the first calculation and the add function for the second one.\", 'type': 'text'}, {'id': 'toolu_016pQH9Avas8vLZF8z4XEU31', 'input': {'a': 3, 'b': 12}, 'name': 'multiply', 'type': 'tool_use'}, {'id': 'toolu_014tKZv46e7N98BdBhXUkDb7', 'input': {'a': 11, 'b': 49}, 'name': 'add', 'type': 'tool_use'}], response_metadata={'id': 'msg_013jf3MnXGU2Rhy1g3dpeDXM', 'model': 'claude-3-5-sonnet-20240620', 'stop_reason': 'tool_use', 'stop_sequence': None, 'usage': {'input_tokens': 450, 'output_tokens': 153}}, id='run-4fc925c1-f0da-4512-be32-8a8e23e75c85-0', tool_calls=[{'name': 'multiply', 'args': {'a': 3, 'b': 12}, 'id': 'toolu_016pQH9Avas8vLZF8z4XEU31', 'type': 'tool_call'}, {'name': 'add', 'args': {'a': 11, 'b': 49}, 'id': 'toolu_014tKZv46e7N98BdBhXUkDb7', 'type': 'tool_call'}], usage_metadata={'input_tokens': 450, 'output_tokens': 153, 'total_tokens': 603}),\n",
       " ToolMessage(content='36', name='multiply', tool_call_id='toolu_016pQH9Avas8vLZF8z4XEU31'),\n",
       " ToolMessage(content='60', name='add', tool_call_id='toolu_014tKZv46e7N98BdBhXUkDb7')]"
      ]
     },
     "execution_count": 11,
     "metadata": {},
     "output_type": "execute_result"
    }
   ],
   "source": [
    "for tool_call in ai_msg.tool_calls:\n",
    "    selected_tool = {\"add\": add, \"multiply\": multiply}[tool_call[\"name\"].lower()]\n",
    "    tool_msg = selected_tool.invoke(tool_call)\n",
    "    messages.append(tool_msg)\n",
    "\n",
    "\n",
    "messages"
   ]
  },
  {
   "cell_type": "code",
   "execution_count": 12,
   "metadata": {},
   "outputs": [
    {
     "data": {
      "text/plain": [
       "AIMessage(content=\"Great! I have the results for you:\\n\\n1. 3 * 12 = 36\\n2. 11 + 49 = 60\\n\\nSo, to answer your questions:\\n- 3 * 12 = 36\\n- 11 + 49 = 60\\n\\nIs there anything else you'd like me to calculate for you?\", response_metadata={'id': 'msg_018VtnjZUjeYsKBCLqoGVUR3', 'model': 'claude-3-5-sonnet-20240620', 'stop_reason': 'end_turn', 'stop_sequence': None, 'usage': {'input_tokens': 664, 'output_tokens': 85}}, id='run-91db11fa-640f-45ab-bff8-f4f5e12b8a6d-0', usage_metadata={'input_tokens': 664, 'output_tokens': 85, 'total_tokens': 749})"
      ]
     },
     "execution_count": 12,
     "metadata": {},
     "output_type": "execute_result"
    }
   ],
   "source": [
    "llm_with_tools.invoke(messages)"
   ]
  }
 ],
 "metadata": {
  "kernelspec": {
   "display_name": "twit",
   "language": "python",
   "name": "python3"
  },
  "language_info": {
   "codemirror_mode": {
    "name": "ipython",
    "version": 3
   },
   "file_extension": ".py",
   "mimetype": "text/x-python",
   "name": "python",
   "nbconvert_exporter": "python",
   "pygments_lexer": "ipython3",
   "version": "3.12.3"
  }
 },
 "nbformat": 4,
 "nbformat_minor": 2
}
