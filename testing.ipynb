{
 "cells": [
  {
   "cell_type": "code",
   "execution_count": 2,
   "metadata": {},
   "outputs": [],
   "source": [
    "import os\n",
    "from dotenv import load_dotenv\n",
    "\n",
    "from langchain import PromptTemplate\n",
    "from langchain.agents import initialize_agent, Tool\n",
    "from langchain.agents import AgentType\n",
    "from langchain.chat_models import ChatOpenAI\n",
    "from langchain.prompts import MessagesPlaceholder\n",
    "from langchain.memory import ConversationSummaryBufferMemory\n",
    "from langchain.text_splitter import RecursiveCharacterTextSplitter\n",
    "from langchain.chains.summarize import load_summarize_chain\n",
    "from langchain.tools import BaseTool\n",
    "from pydantic import BaseModel, Field\n",
    "from typing import Type\n",
    "from bs4 import BeautifulSoup\n",
    "import requests\n",
    "import json\n",
    "from langchain.schema import SystemMessage\n",
    "from serpapi import GoogleSearch\n"
   ]
  },
  {
   "cell_type": "code",
   "execution_count": 3,
   "metadata": {},
   "outputs": [
    {
     "name": "stdout",
     "output_type": "stream",
     "text": [
      "d90f060b77f2081191f61881bb73b840c33d6140\n",
      "8c775aa9-5c58-45ea-977c-a7334402f870\n",
      "{\"searchParameters\":{\"q\":\"how to make a website\",\"type\":\"search\",\"engine\":\"google\"},\"organic\":[{\"title\":\"How to Create a Website From Scratch in 11 Steps (for Beginners)\",\"link\":\"https://www.wix.com/blog/how-to-build-website-from-scratch-guide\",\"snippet\":\"A great way to get started is by creating a simple idea map with a pen and paper. In the center of your map, write down the type of site you plan to make. Think ...\",\"sitelinks\":[{\"title\":\"Website launch checklist\",\"link\":\"https://www.wix.com/blog/website-launch-checklist\"},{\"title\":\"eCommerce\",\"link\":\"https://www.wix.com/blog/what-is-ecommerce\"},{\"title\":\"27 best nonprofit websites\",\"link\":\"https://www.wix.com/blog/best-nonprofit-websites\"},{\"title\":\"Wix Pro Gallery\",\"link\":\"https://support.wix.com/en/article/wix-pro-gallery-adding-and-setting-up-your-gallery\"}],\"position\":1},{\"title\":\"Website Builder — Create a Website in Minutes — Squarespace\",\"link\":\"https://www.squarespace.com/\",\"snippet\":\"Create a customizable website or online store with an all-in-one solution from Squarespace. Choose a website template and start your free trial today.\",\"sitelinks\":[{\"title\":\"How to Build a Website\",\"link\":\"https://www.squarespace.com/how-to/build-a-website\"},{\"title\":\"Pricing\",\"link\":\"https://www.squarespace.com/pricing\"},{\"title\":\"The Leader in Website Design\",\"link\":\"https://www.squarespace.com/website-design\"},{\"title\":\"Contact Us\",\"link\":\"https://www.squarespace.com/contact\"}],\"position\":2},{\"title\":\"Website Builder - Create a Free Website - Canva\",\"link\":\"https://www.canva.com/website-builder/\",\"snippet\":\"How to build your Canva Website. Launch Canva. Search for 'Website' in Canva. Choose from one of our professionally designed website layouts to open our free ...\",\"position\":3},{\"title\":\"How to make a website for free/myself/on my own? - Reddit\",\"link\":\"https://www.reddit.com/r/learnprogramming/comments/12mvjym/how_to_make_a_website_for_freemyselfon_my_own/\",\"snippet\":\"Hi i wanna create my own website, make my own domain name , server, everything all set up on my own. All of the guides i can find tell me to ...\",\"date\":\"Apr 15, 2023\",\"sitelinks\":[{\"title\":\"Best way to build a website in 2023 : r/webdev\",\"link\":\"https://www.reddit.com/r/webdev/comments/175i6w5/best_way_to_build_a_website_in_2023/\"},{\"title\":\"Trying to create my own website from scratch : r/web_design\",\"link\":\"https://www.reddit.com/r/web_design/comments/u3jtgr/trying_to_create_my_own_website_from_scratch/\"},{\"title\":\"Best way to make a website for small business?\",\"link\":\"https://www.reddit.com/r/smallbusiness/comments/1bg74au/best_way_to_make_a_website_for_small_business/\"},{\"title\":\"How do people build a website in real world? : r/react\",\"link\":\"https://www.reddit.com/r/react/comments/18x5d31/how_do_people_build_a_website_in_real_world/\"}],\"position\":4},{\"title\":\"Wix.com: Website Builder - Create a Free Website Today\",\"link\":\"https://www.wix.com/\",\"snippet\":\"Create your website and grow with confidence. From an intuitive website builder to advanced business solutions & powerful SEO tools—Try Wix for free.\",\"sitelinks\":[{\"title\":\"How to create a website\",\"link\":\"https://www.wix.com/blog/how-to-build-website-from-scratch-guide\"},{\"title\":\"Website Templates\",\"link\":\"https://www.wix.com/website/templates\"},{\"title\":\"Pricing\",\"link\":\"https://www.wix.com/plans\"},{\"title\":\"Website Design\",\"link\":\"https://www.wix.com/website/design\"}],\"position\":5},{\"title\":\"How To Build A Website in 2024 - YouTube\",\"link\":\"https://www.youtube.com/watch?v=acBJsjCqgtM\",\"snippet\":\"Pre-order my book to get an exclusive ticket to The Feel-Good Productivity Annual Planning ...\",\"date\":\"Apr 11, 2021\",\"attributes\":{\"Duration\":\"22:01\",\"Posted\":\"Apr 11, 2021\"},\"imageUrl\":\"https://i.ytimg.com/vi/acBJsjCqgtM/default.jpg?sqp=-oaymwEECHgQQw&rs=AMzJL3krJuXdPv3a05_s0ttl3WmppwPvFg\",\"position\":6},{\"title\":\"Free Website Builder: Build a Free Website or Online Store | Weebly\",\"link\":\"https://www.weebly.com/\",\"snippet\":\"Weebly's free website builder makes it easy to create a website, blog, or online store. Find customizable templates, domains, and easy-to-use tools for any ...\",\"sitelinks\":[{\"title\":\"Login\",\"link\":\"https://www.weebly.com/login\"},{\"title\":\"Create a Website with...\",\"link\":\"https://www.weebly.com/websites\"},{\"title\":\"Pricing\",\"link\":\"https://www.weebly.com/pricing\"},{\"title\":\"Free Website Builder\",\"link\":\"https://www.weebly.com/?lang=no_NO\"}],\"position\":7},{\"title\":\"How to Create a Website From Scratch (Step-By-Step Beginner's ...\",\"link\":\"https://bootcamp.berkeley.edu/blog/how-to-create-website-from-scratch-guide/\",\"snippet\":\"1. Hone and Align Relevant Skills. Prior to conceptualizing your new website, it is important to first audit your relevant prerequisite skills — namely, those ...\",\"sitelinks\":[{\"title\":\"4. Choose A Domain Name\",\"link\":\"https://bootcamp.berkeley.edu/blog/how-to-create-website-from-scratch-guide/#:~:text=4.%20Choose%20a%20Domain%20Name\"},{\"title\":\"9. Promote Your Site\",\"link\":\"https://bootcamp.berkeley.edu/blog/how-to-create-website-from-scratch-guide/#:~:text=9.%20Promote%20Your%20Site\"},{\"title\":\"10. Keep Your Site Up To...\",\"link\":\"https://bootcamp.berkeley.edu/blog/how-to-create-website-from-scratch-guide/#:~:text=10.%20Keep%20Your%20Site%20Up%20To%20Date\"}],\"position\":8},{\"title\":\"Create Your Free Website | Free Website Builder | Website.com\",\"link\":\"https://www.website.com/\",\"snippet\":\"Create a professional website for free with the Website.com website builder. Domain names, web hosting, website templates, and ecommerce solutions included.\",\"sitelinks\":[{\"title\":\"Website Builder\",\"link\":\"https://www.website.com/website-builder/\"},{\"title\":\"Log in\",\"link\":\"https://www.website.com/sign-in/\"},{\"title\":\"Sign Up\",\"link\":\"https://www.website.com/sign-up/\"},{\"title\":\"Make a Website with Landing...\",\"link\":\"https://www.website.com/website-builder-templates/landing-page\"}],\"position\":9},{\"title\":\"How do I create a website for my business? Need your Help\",\"link\":\"https://forum.level1techs.com/t/how-do-i-create-a-website-for-my-business-need-your-help/182818\",\"snippet\":\"Build a Website – Website Builder – Squarespace. Squarespace is the all-in-one solution for anyone looking to create a beautiful website.\",\"date\":\"Mar 9, 2022\",\"position\":10}],\"peopleAlsoAsk\":[{\"question\":\"Can I build my own website for free?\",\"snippet\":\"Wix, Weebly and WordPress are website builders that offer their services for free in addition to a subdomain.\",\"title\":\"How To Build A Website For Free In 2024 - Forbes\",\"link\":\"https://www.forbes.com/advisor/business/build-a-website-for-free/\"},{\"question\":\"How do I create a website on my own?\",\"snippet\":\"HOW TO MAKE A WEBSITE FROM SCRATCH\\n1\\nDecide what type of website you want to make.\\n2\\nChoose your website builder.\\n3\\nPick your template.\\n4\\nCustomize your template to your brand.\\n5\\nBuild your site structure.\\n6\\nAdd your pages.\\n7\\nFill your pages with engaging content.\\n8\\nPick and purchase a domain name.\",\"title\":\"How to Create a Website From Scratch in 11 Steps (for Beginners)\",\"link\":\"https://www.wix.com/blog/how-to-build-website-from-scratch-guide\"},{\"question\":\"How do I create a free website cost?\",\"snippet\":\"Google offers a simple and free website builder called Google Sites. You can access it through your Google account. It's a drag-and-drop editor which makes it easy to create your own website. Note that while it's free and straightforward, it may have limitations for more complex website needs.\",\"title\":\"How to Create Website for Free of Cost: Step-By-Step Guide - Dotstore\",\"link\":\"https://www.thedotstore.com/how-to-create-website-for-free/\"},{\"question\":\"How much does making a website cost?\",\"snippet\":\"The cost of creating a website can vary greatly depending on several factors such as the platform you use, design complexity, additional functionalities, and whether you hire a professional web developer. In general, you can expect to pay anywhere from $500 to $5,000 for a one-page website.\",\"title\":\"How much does a website cost in 2024? - GoDaddy Blog\",\"link\":\"https://www.godaddy.com/resources/skills/how-much-does-a-website-cost\"}],\"relatedSearches\":[{\"query\":\"Namecheap\"},{\"query\":\"How to make a website free\"},{\"query\":\"How to make a website on Google\"},{\"query\":\"How to make a website using HTML\"},{\"query\":\"Website builder\"},{\"query\":\"How to create a website for business for free\"},{\"query\":\"How to make a website from scratch\"},{\"query\":\"Free website builder\"},{\"query\":\"How to make a website for a business\"}]}\n",
      "{\"searchParameters\":{\"q\":\"how to make a website\",\"type\":\"search\",\"engine\":\"google\"},\"organic\":[{\"title\":\"How to Create a Website From Scratch in 11 Steps (for Beginners)\",\"link\":\"https://www.wix.com/blog/how-to-build-website-from-scratch-guide\",\"snippet\":\"A great way to get started is by creating a simple idea map with a pen and paper. In the center of your map, write down the type of site you plan to make. Think ...\",\"sitelinks\":[{\"title\":\"Website launch checklist\",\"link\":\"https://www.wix.com/blog/website-launch-checklist\"},{\"title\":\"eCommerce\",\"link\":\"https://www.wix.com/blog/what-is-ecommerce\"},{\"title\":\"27 best nonprofit websites\",\"link\":\"https://www.wix.com/blog/best-nonprofit-websites\"},{\"title\":\"Wix Pro Gallery\",\"link\":\"https://support.wix.com/en/article/wix-pro-gallery-adding-and-setting-up-your-gallery\"}],\"position\":1},{\"title\":\"Website Builder — Create a Website in Minutes — Squarespace\",\"link\":\"https://www.squarespace.com/\",\"snippet\":\"Create a customizable website or online store with an all-in-one solution from Squarespace. Choose a website template and start your free trial today.\",\"sitelinks\":[{\"title\":\"How to Build a Website\",\"link\":\"https://www.squarespace.com/how-to/build-a-website\"},{\"title\":\"Pricing\",\"link\":\"https://www.squarespace.com/pricing\"},{\"title\":\"The Leader in Website Design\",\"link\":\"https://www.squarespace.com/website-design\"},{\"title\":\"Contact Us\",\"link\":\"https://www.squarespace.com/contact\"}],\"position\":2},{\"title\":\"Website Builder - Create a Free Website - Canva\",\"link\":\"https://www.canva.com/website-builder/\",\"snippet\":\"How to build your Canva Website. Launch Canva. Search for 'Website' in Canva. Choose from one of our professionally designed website layouts to open our free ...\",\"position\":3},{\"title\":\"How to make a website for free/myself/on my own? - Reddit\",\"link\":\"https://www.reddit.com/r/learnprogramming/comments/12mvjym/how_to_make_a_website_for_freemyselfon_my_own/\",\"snippet\":\"Hi i wanna create my own website, make my own domain name , server, everything all set up on my own. All of the guides i can find tell me to ...\",\"date\":\"Apr 15, 2023\",\"sitelinks\":[{\"title\":\"Best way to build a website in 2023 : r/webdev\",\"link\":\"https://www.reddit.com/r/webdev/comments/175i6w5/best_way_to_build_a_website_in_2023/\"},{\"title\":\"Trying to create my own website from scratch : r/web_design\",\"link\":\"https://www.reddit.com/r/web_design/comments/u3jtgr/trying_to_create_my_own_website_from_scratch/\"},{\"title\":\"Best way to make a website for small business?\",\"link\":\"https://www.reddit.com/r/smallbusiness/comments/1bg74au/best_way_to_make_a_website_for_small_business/\"},{\"title\":\"How do people build a website in real world? : r/react\",\"link\":\"https://www.reddit.com/r/react/comments/18x5d31/how_do_people_build_a_website_in_real_world/\"}],\"position\":4},{\"title\":\"Wix.com: Website Builder - Create a Free Website Today\",\"link\":\"https://www.wix.com/\",\"snippet\":\"Create your website and grow with confidence. From an intuitive website builder to advanced business solutions & powerful SEO tools—Try Wix for free.\",\"sitelinks\":[{\"title\":\"How to create a website\",\"link\":\"https://www.wix.com/blog/how-to-build-website-from-scratch-guide\"},{\"title\":\"Website Templates\",\"link\":\"https://www.wix.com/website/templates\"},{\"title\":\"Pricing\",\"link\":\"https://www.wix.com/plans\"},{\"title\":\"Website Design\",\"link\":\"https://www.wix.com/website/design\"}],\"position\":5},{\"title\":\"How To Build A Website in 2024 - YouTube\",\"link\":\"https://www.youtube.com/watch?v=acBJsjCqgtM\",\"snippet\":\"Pre-order my book to get an exclusive ticket to The Feel-Good Productivity Annual Planning ...\",\"date\":\"Apr 11, 2021\",\"attributes\":{\"Duration\":\"22:01\",\"Posted\":\"Apr 11, 2021\"},\"imageUrl\":\"https://i.ytimg.com/vi/acBJsjCqgtM/default.jpg?sqp=-oaymwEECHgQQw&rs=AMzJL3krJuXdPv3a05_s0ttl3WmppwPvFg\",\"position\":6},{\"title\":\"Free Website Builder: Build a Free Website or Online Store | Weebly\",\"link\":\"https://www.weebly.com/\",\"snippet\":\"Weebly's free website builder makes it easy to create a website, blog, or online store. Find customizable templates, domains, and easy-to-use tools for any ...\",\"sitelinks\":[{\"title\":\"Login\",\"link\":\"https://www.weebly.com/login\"},{\"title\":\"Create a Website with...\",\"link\":\"https://www.weebly.com/websites\"},{\"title\":\"Pricing\",\"link\":\"https://www.weebly.com/pricing\"},{\"title\":\"Free Website Builder\",\"link\":\"https://www.weebly.com/?lang=no_NO\"}],\"position\":7},{\"title\":\"How to Create a Website From Scratch (Step-By-Step Beginner's ...\",\"link\":\"https://bootcamp.berkeley.edu/blog/how-to-create-website-from-scratch-guide/\",\"snippet\":\"1. Hone and Align Relevant Skills. Prior to conceptualizing your new website, it is important to first audit your relevant prerequisite skills — namely, those ...\",\"sitelinks\":[{\"title\":\"4. Choose A Domain Name\",\"link\":\"https://bootcamp.berkeley.edu/blog/how-to-create-website-from-scratch-guide/#:~:text=4.%20Choose%20a%20Domain%20Name\"},{\"title\":\"9. Promote Your Site\",\"link\":\"https://bootcamp.berkeley.edu/blog/how-to-create-website-from-scratch-guide/#:~:text=9.%20Promote%20Your%20Site\"},{\"title\":\"10. Keep Your Site Up To...\",\"link\":\"https://bootcamp.berkeley.edu/blog/how-to-create-website-from-scratch-guide/#:~:text=10.%20Keep%20Your%20Site%20Up%20To%20Date\"}],\"position\":8},{\"title\":\"Create Your Free Website | Free Website Builder | Website.com\",\"link\":\"https://www.website.com/\",\"snippet\":\"Create a professional website for free with the Website.com website builder. Domain names, web hosting, website templates, and ecommerce solutions included.\",\"sitelinks\":[{\"title\":\"Website Builder\",\"link\":\"https://www.website.com/website-builder/\"},{\"title\":\"Log in\",\"link\":\"https://www.website.com/sign-in/\"},{\"title\":\"Sign Up\",\"link\":\"https://www.website.com/sign-up/\"},{\"title\":\"Make a Website with Landing...\",\"link\":\"https://www.website.com/website-builder-templates/landing-page\"}],\"position\":9},{\"title\":\"How do I create a website for my business? Need your Help\",\"link\":\"https://forum.level1techs.com/t/how-do-i-create-a-website-for-my-business-need-your-help/182818\",\"snippet\":\"Build a Website – Website Builder – Squarespace. Squarespace is the all-in-one solution for anyone looking to create a beautiful website.\",\"date\":\"Mar 9, 2022\",\"position\":10}],\"peopleAlsoAsk\":[{\"question\":\"Can I build my own website for free?\",\"snippet\":\"Wix, Weebly and WordPress are website builders that offer their services for free in addition to a subdomain.\",\"title\":\"How To Build A Website For Free In 2024 - Forbes\",\"link\":\"https://www.forbes.com/advisor/business/build-a-website-for-free/\"},{\"question\":\"How do I create a website on my own?\",\"snippet\":\"HOW TO MAKE A WEBSITE FROM SCRATCH\\n1\\nDecide what type of website you want to make.\\n2\\nChoose your website builder.\\n3\\nPick your template.\\n4\\nCustomize your template to your brand.\\n5\\nBuild your site structure.\\n6\\nAdd your pages.\\n7\\nFill your pages with engaging content.\\n8\\nPick and purchase a domain name.\",\"title\":\"How to Create a Website From Scratch in 11 Steps (for Beginners)\",\"link\":\"https://www.wix.com/blog/how-to-build-website-from-scratch-guide\"},{\"question\":\"How do I create a free website cost?\",\"snippet\":\"Google offers a simple and free website builder called Google Sites. You can access it through your Google account. It's a drag-and-drop editor which makes it easy to create your own website. Note that while it's free and straightforward, it may have limitations for more complex website needs.\",\"title\":\"How to Create Website for Free of Cost: Step-By-Step Guide - Dotstore\",\"link\":\"https://www.thedotstore.com/how-to-create-website-for-free/\"},{\"question\":\"How much does making a website cost?\",\"snippet\":\"The cost of creating a website can vary greatly depending on several factors such as the platform you use, design complexity, additional functionalities, and whether you hire a professional web developer. In general, you can expect to pay anywhere from $500 to $5,000 for a one-page website.\",\"title\":\"How much does a website cost in 2024? - GoDaddy Blog\",\"link\":\"https://www.godaddy.com/resources/skills/how-much-does-a-website-cost\"}],\"relatedSearches\":[{\"query\":\"Namecheap\"},{\"query\":\"How to make a website free\"},{\"query\":\"How to make a website on Google\"},{\"query\":\"How to make a website using HTML\"},{\"query\":\"Website builder\"},{\"query\":\"How to create a website for business for free\"},{\"query\":\"How to make a website from scratch\"},{\"query\":\"Free website builder\"},{\"query\":\"How to make a website for a business\"}]}\n"
     ]
    }
   ],
   "source": [
    "# 1. Tool for search\n",
    "load_dotenv()\n",
    "browserless_api_key = os.environ[\"BROWSERLESS_API_KEY\"]\n",
    "serper_api_key = os.environ['SERPAPI_API_KEY']\n",
    "print(serper_api_key)\n",
    "print(browserless_api_key)\n",
    "\n",
    "def search(query):\n",
    "    url = \"https://google.serper.dev/search\"\n",
    "\n",
    "    payload = json.dumps({\n",
    "        \"q\": query\n",
    "    })\n",
    "\n",
    "    headers = {\n",
    "        'X-API-KEY': serper_api_key,\n",
    "        'Content-Type': 'application/json'\n",
    "    }\n",
    "\n",
    "    response = requests.request(\"POST\", url, headers=headers, data=payload)\n",
    "\n",
    "    print(response.text)\n",
    "\n",
    "    return response.text\n",
    "\n",
    "print(search(\"how to make a website\"))\n"
   ]
  },
  {
   "cell_type": "code",
   "execution_count": 5,
   "metadata": {},
   "outputs": [
    {
     "name": "stdout",
     "output_type": "stream",
     "text": [
      "{   'error': 'Invalid API key. Your API key should be here: '\n",
      "             'https://serpapi.com/manage-api-key'}\n"
     ]
    }
   ],
   "source": [
    "import pprint\n",
    "\n",
    "search = GoogleSearch({\n",
    "    \"q\": \"how does a turing machine work\", \n",
    "    \"api_key\": serper_api_key\n",
    "  })\n",
    "result = search.get_dict()\n",
    "\n",
    "pp = pprint.PrettyPrinter(indent=4)\n",
    "pp.pprint(result)"
   ]
  },
  {
   "cell_type": "code",
   "execution_count": null,
   "metadata": {},
   "outputs": [],
   "source": []
  }
 ],
 "metadata": {
  "kernelspec": {
   "display_name": "Python 3",
   "language": "python",
   "name": "python3"
  },
  "language_info": {
   "codemirror_mode": {
    "name": "ipython",
    "version": 3
   },
   "file_extension": ".py",
   "mimetype": "text/x-python",
   "name": "python",
   "nbconvert_exporter": "python",
   "pygments_lexer": "ipython3",
   "version": "3.12.3"
  },
  "orig_nbformat": 4
 },
 "nbformat": 4,
 "nbformat_minor": 2
}
